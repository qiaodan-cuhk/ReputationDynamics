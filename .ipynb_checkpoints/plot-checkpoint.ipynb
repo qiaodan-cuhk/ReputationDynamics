{
 "cells": [
  {
   "cell_type": "code",
   "execution_count": 1,
   "id": "7086c82e",
   "metadata": {},
   "outputs": [
    {
     "name": "stderr",
     "output_type": "stream",
     "text": [
      "/home/qiaodan/anaconda3/envs/standard38/lib/python3.8/site-packages/tqdm/auto.py:22: TqdmWarning: IProgress not found. Please update jupyter and ipywidgets. See https://ipywidgets.readthedocs.io/en/stable/user_install.html\n",
      "  from .autonotebook import tqdm as notebook_tqdm\n"
     ]
    }
   ],
   "source": [
    "import matplotlib.pyplot as plt\n",
    "import seaborn as sns\n",
    "import pandas as pd \n",
    "import numpy as np\n",
    "import torch\n",
    "import csv"
   ]
  },
  {
   "cell_type": "code",
   "execution_count": 4,
   "id": "4523fbd7",
   "metadata": {},
   "outputs": [],
   "source": [
    "def smooth(tmp, l, epi_len):\n",
    "#     assert l >= 1\n",
    "#     if l == 1:\n",
    "#         return tmp\n",
    "    result = tmp.copy()\n",
    "    for i in range(epi_len):\n",
    "        result[..., i] = tmp[..., max(0, i-l+1):i+1].mean(axis=-1)\n",
    "\n",
    "    return result\n",
    "\n"
   ]
  },
  {
   "cell_type": "code",
   "execution_count": 8,
   "id": "15df1174",
   "metadata": {},
   "outputs": [
    {
     "data": {
      "image/png": "[encoded data removed]",
      "text/plain": [
       "<Figure size 1000x500 with 1 Axes>"
      ]
     },
     "metadata": {
      "needs_background": "light"
     },
     "output_type": "display_data"
    }
   ],
   "source": [
    "\"\"\" experiment 1, base case   \"\"\"\n",
    "\n",
    "c_rate = [0.268, 0.268, 0.2527, 0.268, 76.8, 39.2]\n",
    "base_x = list(range(6))\n",
    "base_label = ['b2_norm9', 'b2_norm0', 'b5_norm0', 'b5_norm0', 'b10_norm9', 'b10_norm0']\n",
    "\n",
    "plt.figure(dpi=100, figsize=(10,5))\n",
    "plt.bar(base_x, c_rate, color=('darkblue','darkred'))\n",
    "# plt.hlines(ave_20seeds_corate, 0, 10, color='red')\n",
    "plt.xticks(base_x, base_label)\n",
    "plt.xlabel('Different settings in base experiments')\n",
    "plt.ylabel('Cooperation Rate')\n",
    "plt.title('Average Cooperation Rate in 10 seeds')\n",
    "plt.savefig('./results/base/Average_cooperation_rate_in_b_2_5_10.png')\n",
    "plt.axis([-1, 6, 0, 100])\n",
    "plt.show()\n",
    "\n",
    "\n",
    "\n",
    "\n",
    "\n",
    "\n",
    "\n"
   ]
  },
  {
   "cell_type": "code",
   "execution_count": null,
   "id": "ac3132ac",
   "metadata": {},
   "outputs": [],
   "source": []
  },
  {
   "cell_type": "code",
   "execution_count": null,
   "id": "af5c2602",
   "metadata": {},
   "outputs": [],
   "source": []
  },
  {
   "cell_type": "code",
   "execution_count": null,
   "id": "2b266fcb",
   "metadata": {},
   "outputs": [],
   "source": [
    "\"\"\" Experiment with seeding \"\"\"\n",
    "s3n9 = pd.read_csv('./results/seeding/exp_seed3_norm9.csv', header=None)\n",
    "s2n9 = pd.read_csv('./results/seeding/exp_seed2_norm9.csv', header=None)\n",
    "s1n9 = pd.read_csv('./results/seeding/exp_seed1_norm9.csv', header=None)\n",
    "s0n9 = pd.read_csv('./results/seeding/exp_seed0_norm9.csv', header=None)\n",
    "\n",
    "s2n0 = pd.read_csv('./results/seeding/exp_seed2_norm0.csv', header=None)\n",
    "s1n0 = pd.read_csv('./results/seeding/exp_seed1_norm0.csv', header=None)\n",
    "s0n0 = pd.read_csv('./results/seeding/exp_seed0_norm9.csv', header=None)"
   ]
  },
  {
   "cell_type": "code",
   "execution_count": null,
   "id": "fd614a2f",
   "metadata": {},
   "outputs": [],
   "source": [
    "s3n9_arr = np.array(s3n9)\n",
    "s2n9_arr = np.array(s2n9)\n",
    "s1n9_arr = np.array(s1n9)\n",
    "s0n9_arr = np.array(s0n9)\n",
    "\n",
    "s2n0_arr = np.array(s2n0)\n",
    "s1n0_arr = np.array(s1n0)\n",
    "s0n0_arr = np.array(s0n0)\n",
    "\n",
    "\n",
    "s2n9.shape, s1n9.shape, s2n0.shape"
   ]
  },
  {
   "cell_type": "code",
   "execution_count": null,
   "id": "077f217a",
   "metadata": {},
   "outputs": [],
   "source": [
    "x_list = list(range(20000))\n",
    "len(x_list)"
   ]
  },
  {
   "cell_type": "code",
   "execution_count": null,
   "id": "f53e3239",
   "metadata": {},
   "outputs": [],
   "source": [
    "plt.figure(figsize=(12, 7))\n",
    "plt.plot(x_list, s3n9_arr[1, :], color = 'lightskyblue')\n",
    "#     plt.plot(x_list, smooth_s2n9[i, :], color = 'palegreen')\n",
    "#     plt.plot(x_list, smooth_s1n9[i, :], color = 'lightcoral')\n",
    "#     plt.plot(x_list, smooth_s0n9[i, :], color = 'violet')"
   ]
  },
  {
   "cell_type": "code",
   "execution_count": null,
   "id": "9ec8de3f",
   "metadata": {},
   "outputs": [],
   "source": [
    "smooth_s3n9 = np.zeros((10, 20000))\n",
    "smooth_s2n9 = np.zeros((10, 20000))\n",
    "smooth_s1n9 = np.zeros((10, 20000))\n",
    "smooth_s0n9 = np.zeros((10, 20000))\n",
    "\n",
    "\n",
    "smooth_s2n0 = np.zeros((10, 20000))\n",
    "smooth_s1n0 = np.zeros((10, 20000))\n",
    "smooth_s0n0 = np.zeros((10, 20000))\n",
    "for i in range(10):\n",
    "    smooth_s3n9[i,:] = smooth(s3n9_arr[i,:], 500, 20000)\n",
    "    smooth_s2n9[i,:] = smooth(s2n9_arr[i,:], 500, 20000)\n",
    "    smooth_s1n9[i,:] = smooth(s1n9_arr[i,:], 500, 20000)\n",
    "    smooth_s0n9[i,:] = smooth(s0n9_arr[i,:], 500, 20000)\n",
    "    \n",
    "    smooth_s2n0[i,:] = smooth(s2n0_arr[i,:], 500, 20000)\n",
    "    smooth_s1n0[i,:] = smooth(s1n0_arr[i,:], 500, 20000)\n",
    "    smooth_s0n0[i,:] = smooth(s0n0_arr[i,:], 500, 20000)\n",
    "    \n",
    "smooth_s2n9.shape"
   ]
  },
  {
   "cell_type": "code",
   "execution_count": null,
   "id": "69cef655",
   "metadata": {},
   "outputs": [],
   "source": [
    "# drop the unusual value\n",
    "smooth_s1n9[7,:] = smooth_s1n9[6,:]\n",
    "smooth_s0n9[3,:] = smooth_s0n9[2,:]\n",
    "smooth_s0n0[3,:] = smooth_s0n0[2,:]"
   ]
  },
  {
   "cell_type": "code",
   "execution_count": null,
   "id": "04521d26",
   "metadata": {},
   "outputs": [],
   "source": [
    "mean_s3n9 = np.mean(smooth_s3n9, axis=0)\n",
    "mean_s2n9 = np.mean(smooth_s2n9, axis=0)\n",
    "mean_s1n9 = np.mean(smooth_s1n9, axis=0)\n",
    "mean_s0n9 = np.mean(smooth_s0n9, axis=0)\n",
    "\n",
    "mean_s2n0 = np.mean(smooth_s2n0, axis=0)\n",
    "mean_s1n0 = np.mean(smooth_s1n0, axis=0)\n",
    "mean_s0n0 = np.mean(smooth_s0n0, axis=0)\n"
   ]
  },
  {
   "cell_type": "code",
   "execution_count": null,
   "id": "091a0680",
   "metadata": {},
   "outputs": [],
   "source": [
    "plt.figure(figsize=(20, 14))\n",
    "plt.subplot(211)\n",
    "for i in range(10):\n",
    "    plt.plot(x_list, smooth_s3n9[i, :], color = 'lightskyblue')\n",
    "    plt.plot(x_list, smooth_s2n9[i, :], color = 'palegreen')\n",
    "    plt.plot(x_list, smooth_s1n9[i, :], color = 'lightcoral')\n",
    "    plt.plot(x_list, smooth_s0n9[i, :], color = 'violet')\n",
    "plt.plot(x_list, mean_s3n9, color = 'steelblue', linewidth = 3, label='Seeding 30%')\n",
    "plt.plot(x_list, mean_s2n9, color = 'seagreen', linewidth = 3, label='Seeding 20%')\n",
    "plt.plot(x_list, mean_s1n9, color = 'darkred', linewidth = 3, label='Seeding 10%')\n",
    "plt.plot(x_list, mean_s0n9, color = 'darkmagenta', linewidth = 3, label='Seeding 0%')\n",
    "plt.xlabel('Episodes')\n",
    "plt.ylabel('Returns')\n",
    "plt.title('Rewards with seeding, norm 9, b = 5')\n",
    "plt.axis([0, 20000, 0, 4])\n",
    "plt.legend()\n",
    "\n",
    "plt.subplot(212)\n",
    "for i in range(10):\n",
    "    plt.plot(x_list, smooth_s2n0[i, :], color = 'palegreen')\n",
    "    plt.plot(x_list, smooth_s1n0[i, :], color = 'lightcoral')\n",
    "    plt.plot(x_list, smooth_s0n0[i, :], color = 'violet')\n",
    "plt.plot(x_list, mean_s2n0, color = 'seagreen', linewidth = 3, label='Seeding 20%')\n",
    "plt.plot(x_list, mean_s1n0, color = 'darkred', linewidth = 3, label='Seeding 10%')\n",
    "plt.plot(x_list, mean_s0n0, color = 'darkmagenta', linewidth = 3, label='Seeding 0%')\n",
    "plt.xlabel('Episodes')\n",
    "plt.ylabel('Returns')\n",
    "plt.title('Rewards with seeding, norm 0, b = 5')\n",
    "plt.axis([0, 20000, 0, 0.5])\n",
    "plt.legend()\n",
    "\n",
    "plt.savefig('/results/seeding/seeding_agents_to_promote_cooperation.png')"
   ]
  },
  {
   "cell_type": "code",
   "execution_count": null,
   "id": "c527f61f",
   "metadata": {},
   "outputs": [],
   "source": []
  },
  {
   "cell_type": "code",
   "execution_count": 15,
   "id": "4984b3da",
   "metadata": {},
   "outputs": [
    {
     "data": {
      "image/png": "[encoded data removed]",
      "text/plain": [
       "<Figure size 1000x500 with 1 Axes>"
      ]
     },
     "metadata": {
      "needs_background": "light"
     },
     "output_type": "display_data"
    }
   ],
   "source": [
    "\"\"\" experiment summary, fig2 A, seeding case   \"\"\"\n",
    "\n",
    "norm9_rate = [7.5, 8.5, 70, 82, 83, 83.5]\n",
    "norm0_rate = [0.27, 0.21, 0.16, 0.14, 0.12, 0.1]\n",
    "seed_sum_x = list(range(6))\n",
    "seed_sum_label = ['0%', '10%', '20%', '30%', '40%', '50%']\n",
    "\n",
    "plt.figure(dpi=100, figsize=(10,5))\n",
    "plt.plot(seed_sum_x, norm9_rate, color=('darkblue'))\n",
    "plt.plot(seed_sum_x, norm0_rate, color=('darkred'))\n",
    "plt.xticks(seed_sum_x, seed_sum_label)\n",
    "plt.xlabel('Percentage of seed agents')\n",
    "plt.ylabel('Cooperation Rate')\n",
    "plt.title('Cooperation Rate in the long run')\n",
    "# plt.axis([0, 5, 0, 85])\n",
    "plt.savefig('./results/seeding/cooperation_rate_summary.png')\n",
    "plt.show()\n",
    "\n"
   ]
  },
  {
   "cell_type": "code",
   "execution_count": null,
   "id": "54c602d7",
   "metadata": {},
   "outputs": [],
   "source": [
    "\"\"\"intrinsic rewards results\"\"\""
   ]
  },
  {
   "cell_type": "code",
   "execution_count": 20,
   "id": "c96765a2",
   "metadata": {},
   "outputs": [
    {
     "data": {
      "text/plain": [
       "((20, 100000), (10, 100000))"
      ]
     },
     "execution_count": 20,
     "metadata": {},
     "output_type": "execute_result"
    }
   ],
   "source": [
    "\"\"\"mix k0 alpha0.6\"\"\"\n",
    "\n",
    "mix_a6k0_n9 = np.array(pd.read_csv('./results/intrinsic/k0alpha6_sum.csv', header=None))\n",
    "\n",
    "smooth_a6k0_reward = np.zeros((10, 100000))\n",
    "smooth_a6k0_rate = np.zeros((10, 100000))\n",
    "\n",
    "\n",
    "for i in range(10):\n",
    "    smooth_a6k0_reward[i,:] = smooth(mix_a6k0_n9[2*i,:], 1000, 100000)\n",
    "    smooth_a6k0_rate[i,:] = smooth(mix_a6k0_n9[2*i+1,:], 1000, 100000)\n",
    "    \n",
    "    \n",
    "mix_a6k0_n9.shape, smooth_a6k0_reward.shape"
   ]
  },
  {
   "cell_type": "code",
   "execution_count": 21,
   "id": "be0955e8",
   "metadata": {},
   "outputs": [],
   "source": [
    "mean_a6k0_reward = np.mean(smooth_a6k0_reward, axis=0)\n",
    "mean_a6k0_rate = np.mean(smooth_a6k0_rate, axis=0)"
   ]
  },
  {
   "cell_type": "code",
   "execution_count": 27,
   "id": "5ddc66c4",
   "metadata": {},
   "outputs": [
    {
     "data": {
      "image/png": "[encoded data removed]",
      "text/plain": [
       "<Figure size 720x720 with 2 Axes>"
      ]
     },
     "metadata": {
      "needs_background": "light"
     },
     "output_type": "display_data"
    }
   ],
   "source": [
    "mix_list = list(range(100000))\n",
    "\n",
    "\n",
    "plt.figure(figsize=(10, 10))\n",
    "plt.subplot(211)\n",
    "for i in range(10):\n",
    "    plt.plot(mix_list, smooth_a6k0_reward[i, :], color = 'lightskyblue')\n",
    "plt.plot(mix_list, mean_a6k0_reward, color = 'black', linewidth = 2, linestyle = '--', label='Seeding 0% Alpha 60%')\n",
    "\n",
    "plt.xlabel('Episodes')\n",
    "plt.ylabel('Returns')\n",
    "plt.title('Rewards with seeding 0% alpha 60%, norm 9, b = 5')\n",
    "plt.axis([0, 100000, 0, 4])\n",
    "plt.legend()\n",
    "\n",
    "plt.subplot(212)\n",
    "for i in range(10):\n",
    "    plt.plot(mix_list, smooth_a6k0_rate[i, :], color = 'violet')\n",
    "plt.plot(mix_list, mean_a6k0_rate, color = 'black', linewidth = 2, linestyle = '--', label='Seeding 0% Alpha 60%')\n",
    "plt.xlabel('Episodes')\n",
    "plt.ylabel('Cooperation Rate')\n",
    "plt.title('Cooperation Rate with seeding 0% alpha 60%, norm 0, b = 5')\n",
    "plt.axis([0, 100000, 0, 1])\n",
    "plt.legend()\n",
    "plt.savefig('./results/intrinsic/alpha60.png')\n",
    "plt.show()\n",
    "\n",
    "\n"
   ]
  },
  {
   "cell_type": "code",
   "execution_count": null,
   "id": "85e8f3ea",
   "metadata": {},
   "outputs": [],
   "source": []
  },
  {
   "cell_type": "code",
   "execution_count": null,
   "id": "09944274",
   "metadata": {},
   "outputs": [],
   "source": []
  },
  {
   "cell_type": "code",
   "execution_count": null,
   "id": "d0de5042",
   "metadata": {},
   "outputs": [],
   "source": []
  },
  {
   "cell_type": "code",
   "execution_count": null,
   "id": "f9856676",
   "metadata": {},
   "outputs": [],
   "source": [
    "\n",
    "\n",
    "\n",
    "a9n9 = pd.read_csv('./results/intrinsic/a9_norm9_10seeds.csv', header=None)\n",
    "a8n9 = pd.read_csv('./results/intrinsic/a8_norm9_10seeds.csv', header=None)\n",
    "a6n9 = pd.read_csv('./results/intrinsic/a6_norm9_10seeds.csv', header=None)\n",
    "\n",
    "\n",
    "\n",
    "\n",
    "a9n9_arr = np.array(a9n9)\n",
    "a8n9_arr = np.array(a8n9)\n",
    "a6n9_arr = np.array(a6n9)\n",
    "\n",
    "\n",
    "\n"
   ]
  },
  {
   "cell_type": "code",
   "execution_count": null,
   "id": "51d71fe8",
   "metadata": {},
   "outputs": [],
   "source": [
    "episodes_len = a9n9_arr.shape[1]\n",
    "height = a9n9_arr.shape[0]\n",
    "\n",
    "episodes_len, height"
   ]
  },
  {
   "cell_type": "code",
   "execution_count": null,
   "id": "d85e5426",
   "metadata": {},
   "outputs": [],
   "source": [
    "smooth_a9n9 = np.zeros((height, episodes_len))\n",
    "smooth_a8n9 = np.zeros((height, episodes_len))\n",
    "smooth_a6n9 = np.zeros((height, episodes_len))\n",
    "\n",
    "\n",
    "\n",
    "for i in range(height):\n",
    "    smooth_a9n9[i,:] = smooth(a9n9_arr[i,:], 1000, episodes_len)\n",
    "    smooth_a8n9[i,:] = smooth(a8n9_arr[i,:], 1000, episodes_len)\n",
    "    smooth_a6n9[i,:] = smooth(a6n9_arr[i,:], 1000, episodes_len)\n",
    "\n",
    "    \n",
    "smooth_a9n9.shape"
   ]
  },
  {
   "cell_type": "code",
   "execution_count": null,
   "id": "151936c8",
   "metadata": {},
   "outputs": [],
   "source": [
    "alpha_x = list(range(episodes_len))"
   ]
  },
  {
   "cell_type": "code",
   "execution_count": null,
   "id": "4c50ae17",
   "metadata": {},
   "outputs": [],
   "source": [
    "mean_a9n9 = np.mean(smooth_a9n9, axis=0)\n",
    "mean_a8n9 = np.mean(smooth_a8n9, axis=0)\n",
    "mean_a6n9 = np.mean(smooth_a6n9, axis=0)\n",
    "# mean_s0n9 = np.mean(smooth_s0n9, axis=0)\n",
    "\n",
    "# mean_s2n0 = np.mean(smooth_s2n0, axis=0)\n",
    "# mean_s1n0 = np.mean(smooth_s1n0, axis=0)\n",
    "# mean_s0n0 = np.mean(smooth_s0n0, axis=0)\n",
    "\n"
   ]
  },
  {
   "cell_type": "code",
   "execution_count": null,
   "id": "adf817a5",
   "metadata": {},
   "outputs": [],
   "source": [
    "\"\"\"alpha = 0.9 plot\"\"\"\n",
    "plt.figure(figsize=(16, 8))\n",
    "for i in range(height):\n",
    "    plt.plot(alpha_x, smooth_a9n9[i, :], color = 'lightskyblue')\n",
    "\n",
    "plt.plot(alpha_x, mean_a9n9, color = 'steelblue', linewidth = 3, label='Alpha 90%')\n",
    "\n",
    "plt.xlabel('Episodes')\n",
    "plt.ylabel('Returns')\n",
    "plt.title('Rewards with intrinsic rewards 90%, norm 9, b = 5')\n",
    "plt.axis([0, episodes_len, 0, 4])\n",
    "plt.legend()\n",
    "plt.savefig('/results/intrinsic/alpha90_b5_norm9.png')\n",
    "plt.show()\n"
   ]
  },
  {
   "cell_type": "code",
   "execution_count": null,
   "id": "e83ff409",
   "metadata": {},
   "outputs": [],
   "source": [
    "\"\"\"alpha = 0.8 plot\"\"\"\n",
    "plt.figure(figsize=(16, 8))\n",
    "for i in range(height):\n",
    "    plt.plot(alpha_x, smooth_a8n9[i, :], color = 'palegreen')\n",
    "\n",
    "plt.plot(alpha_x, mean_a8n9, color = 'seagreen', linewidth = 3, label='Alpha 80%')\n",
    "\n",
    "plt.xlabel('Episodes')\n",
    "plt.ylabel('Returns')\n",
    "plt.title('Rewards with intrinsic rewards 80%, norm 9, b = 5')\n",
    "plt.axis([0, episodes_len, 0, 4])\n",
    "plt.legend()\n",
    "plt.savefig('/results/intrinsic/alpha80_b5_norm9.png')\n",
    "plt.show()\n",
    "\n"
   ]
  },
  {
   "cell_type": "code",
   "execution_count": null,
   "id": "24f1eae8",
   "metadata": {},
   "outputs": [],
   "source": [
    "\"\"\"alpha = 0.6 plot\"\"\"\n",
    "plt.figure(figsize=(16, 8))\n",
    "for i in range(height):\n",
    "    plt.plot(alpha_x, smooth_a6n9[i, :], color = 'lightcoral')\n",
    "\n",
    "plt.plot(alpha_x, mean_a6n9, color = 'darkred', linewidth = 3, label='Alpha 60%')\n",
    "\n",
    "plt.xlabel('Episodes')\n",
    "plt.ylabel('Returns')\n",
    "plt.title('Rewards with intrinsic rewards 60%, norm 9, b = 5')\n",
    "plt.axis([0, episodes_len, 0, 4])\n",
    "plt.legend()\n",
    "plt.savefig('/results/intrinsic/alpha60_b5_norm9.png')\n",
    "plt.show()\n",
    "\n",
    "\n"
   ]
  },
  {
   "cell_type": "code",
   "execution_count": null,
   "id": "3fbdaee9",
   "metadata": {},
   "outputs": [],
   "source": []
  },
  {
   "cell_type": "code",
   "execution_count": null,
   "id": "55bb173b",
   "metadata": {},
   "outputs": [],
   "source": []
  },
  {
   "cell_type": "code",
   "execution_count": null,
   "id": "7e037d86",
   "metadata": {},
   "outputs": [],
   "source": [
    "\"\"\"mix k1 alpha0.6\"\"\"\n",
    "\n",
    "mix_a6k1_n9 = np.array(pd.read_csv('./results/mix/k1alpha0.6/b5_norm9_sum.csv', header=None))\n",
    "\n",
    "\n",
    "\n",
    "mix_a6k1_n9_reward = np.zeros((10, 100000))\n",
    "mix_a6k1_n9_rate = np.zeros((10, 100000))\n",
    "for i in range(10):\n",
    "    mix_a6k1_n9_reward[i,:] = mix_a6k1_n9[2*i,:]\n",
    "    mix_a6k1_n9_rate[i,:] = mix_a6k1_n9[2*i+1,:]\n",
    "    \n",
    "mix_a6k1_n9.shape, mix_a6k1_n9_reward.shape\n"
   ]
  },
  {
   "cell_type": "code",
   "execution_count": null,
   "id": "3002bea3",
   "metadata": {},
   "outputs": [],
   "source": [
    "smooth_a6k1_reward = np.zeros((10, 100000))\n",
    "smooth_a6k1_rate = np.zeros((10, 100000))\n",
    "for i in range(height):\n",
    "    smooth_a6k1_reward[i,:] = smooth(mix_a6k1_n9_reward[i,:], 1000, episodes_len)\n",
    "    smooth_a6k1_rate[i,:] = smooth(mix_a6k1_n9_reward[i,:], 1000, episodes_len)\n",
    "\n",
    "smooth_a6k1_reward.shape"
   ]
  },
  {
   "cell_type": "code",
   "execution_count": null,
   "id": "2c45f61f",
   "metadata": {},
   "outputs": [],
   "source": [
    "mean_a6k1_reward = np.mean(smooth_a6k1_reward, axis=0)\n",
    "mean_a6k1_rate = np.mean(smooth_a6k1_rate, axis=0)"
   ]
  },
  {
   "cell_type": "code",
   "execution_count": null,
   "id": "aa44bf49",
   "metadata": {},
   "outputs": [],
   "source": [
    "mix_list = list(range(100000))\n",
    "plt.figure(figsize=(10, 10))\n",
    "plt.subplot(211)\n",
    "for i in range(10):\n",
    "    plt.plot(mix_list, smooth_a6k1_reward[i, :], color = 'lightskyblue')\n",
    "#     plt.plot(x_list, smooth_s2n9[i, :], color = 'palegreen')\n",
    "#     plt.plot(x_list, smooth_s1n9[i, :], color = 'lightcoral')\n",
    "#     plt.plot(x_list, smooth_s0n9[i, :], color = 'violet')\n",
    "plt.plot(mix_list, mean_a6k1_reward, color = 'steelblue', linewidth = 3, label='Seeding 10% Alpha 60%')\n",
    "# plt.plot(x_list, mean_s2n9, color = 'seagreen', linewidth = 3, label='Seeding 20%')\n",
    "# plt.plot(x_list, mean_s1n9, color = 'darkred', linewidth = 3, label='Seeding 10%')\n",
    "# plt.plot(x_list, mean_s0n9, color = 'darkmagenta', linewidth = 3, label='Seeding 0%')\n",
    "plt.xlabel('Episodes')\n",
    "plt.ylabel('Returns')\n",
    "plt.title('Rewards with seeding 10% alpha 60%, norm 9, b = 5')\n",
    "plt.axis([0, 100000, 0, 4])\n",
    "plt.legend()\n",
    "\n",
    "plt.subplot(212)\n",
    "for i in range(10):\n",
    "    plt.plot(mix_list, smooth_a6k1_rate[i, :], color = 'violet')\n",
    "#     plt.plot(x_list, smooth_s1n0[i, :], color = 'lightcoral')\n",
    "#     plt.plot(x_list, smooth_s0n0[i, :], color = 'violet')\n",
    "plt.plot(mix_list, mean_a6k1_rate, color = 'darkmagenta', linewidth = 3, label='Seeding 10% Alpha 60%')\n",
    "# plt.plot(x_list, mean_s1n0, color = 'darkred', linewidth = 3, label='Seeding 10%')\n",
    "# plt.plot(x_list, mean_s0n0, color = 'darkmagenta', linewidth = 3, label='Seeding 0%')\n",
    "plt.xlabel('Episodes')\n",
    "plt.ylabel('Cooperation Rate')\n",
    "plt.title('Cooperation Rate with seeding 10% alpha 60%, norm 0, b = 5')\n",
    "plt.axis([0, 100000, 0, 1])\n",
    "plt.legend()\n",
    "plt.savefig('./results/mix/alpha60%seeding10%.png')\n",
    "plt.show()\n",
    "\n"
   ]
  }
 ],
 "metadata": {
  "kernelspec": {
   "display_name": "standardRLpy3.8",
   "language": "python",
   "name": "standard38"
  },
  "language_info": {
   "codemirror_mode": {
    "name": "ipython",
    "version": 3
   },
   "file_extension": ".py",
   "mimetype": "text/x-python",
   "name": "python",
   "nbconvert_exporter": "python",
   "pygments_lexer": "ipython3",
   "version": "3.8.13"
  }
 },
 "nbformat": 4,
 "nbformat_minor": 5
}
