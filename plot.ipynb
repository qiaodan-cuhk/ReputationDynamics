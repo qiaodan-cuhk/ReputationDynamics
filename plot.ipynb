{
 "cells": [
  {
   "cell_type": "code",
   "execution_count": 1,
   "id": "7086c82e",
   "metadata": {},
   "outputs": [
    {
     "name": "stderr",
     "output_type": "stream",
     "text": [
      "/home/qiaodan/anaconda3/envs/standard38/lib/python3.8/site-packages/tqdm/auto.py:22: TqdmWarning: IProgress not found. Please update jupyter and ipywidgets. See https://ipywidgets.readthedocs.io/en/stable/user_install.html\n",
      "  from .autonotebook import tqdm as notebook_tqdm\n"
     ]
    }
   ],
   "source": [
    "import matplotlib.pyplot as plt\n",
    "import seaborn as sns\n",
    "import pandas as pd \n",
    "import numpy as np\n",
    "import torch"
   ]
  },
  {
   "cell_type": "code",
   "execution_count": 2,
   "id": "474a649a",
   "metadata": {},
   "outputs": [
    {
     "data": {
      "text/plain": [
       "'/home/qiaodan/Code/ReputationDynamics'"
      ]
     },
     "execution_count": 2,
     "metadata": {},
     "output_type": "execute_result"
    }
   ],
   "source": [
    "pwd"
   ]
  },
  {
   "cell_type": "code",
   "execution_count": 3,
   "id": "2b266fcb",
   "metadata": {},
   "outputs": [],
   "source": [
    "s3n9 = pd.read_csv('./results/seeding/exp_seed3_norm9.csv', header=None)\n",
    "s2n9 = pd.read_csv('./results/seeding/exp_seed2_norm9.csv', header=None)\n",
    "s1n9 = pd.read_csv('./results/seeding/exp_seed1_norm9.csv', header=None)\n",
    "s0n9 = pd.read_csv('./results/seeding/exp_seed0_norm9.csv', header=None)\n",
    "\n",
    "s2n0 = pd.read_csv('./results/seeding/exp_seed2_norm0.csv', header=None)\n",
    "s1n0 = pd.read_csv('./results/seeding/exp_seed1_norm0.csv', header=None)\n",
    "s0n0 = pd.read_csv('./results/seeding/exp_seed0_norm9.csv', header=None)"
   ]
  },
  {
   "cell_type": "code",
   "execution_count": 4,
   "id": "fd614a2f",
   "metadata": {},
   "outputs": [
    {
     "data": {
      "text/plain": [
       "((10, 20000), (10, 20000), (10, 20000))"
      ]
     },
     "execution_count": 4,
     "metadata": {},
     "output_type": "execute_result"
    }
   ],
   "source": [
    "s3n9_arr = np.array(s3n9)\n",
    "s2n9_arr = np.array(s2n9)\n",
    "s1n9_arr = np.array(s1n9)\n",
    "s0n9_arr = np.array(s0n9)\n",
    "\n",
    "s2n0_arr = np.array(s2n0)\n",
    "s1n0_arr = np.array(s1n0)\n",
    "s0n0_arr = np.array(s0n0)\n",
    "\n",
    "\n",
    "s2n9.shape, s1n9.shape, s2n0.shape"
   ]
  },
  {
   "cell_type": "code",
   "execution_count": 5,
   "id": "e945e0b2",
   "metadata": {},
   "outputs": [],
   "source": [
    "def smooth(tmp, l):\n",
    "#     assert l >= 1\n",
    "#     if l == 1:\n",
    "#         return tmp\n",
    "    result = tmp.copy()\n",
    "    for i in range(20000):\n",
    "        result[..., i] = tmp[..., max(0, i-l+1):i+1].mean(axis=-1)\n",
    "\n",
    "    return result\n"
   ]
  },
  {
   "cell_type": "code",
   "execution_count": 6,
   "id": "077f217a",
   "metadata": {},
   "outputs": [
    {
     "data": {
      "text/plain": [
       "20000"
      ]
     },
     "execution_count": 6,
     "metadata": {},
     "output_type": "execute_result"
    }
   ],
   "source": [
    "x_list = list(range(20000))\n",
    "len(x_list)"
   ]
  },
  {
   "cell_type": "code",
   "execution_count": null,
   "id": "9ec8de3f",
   "metadata": {},
   "outputs": [],
   "source": [
    "smooth_s3n9 = np.zeros((10, 20000))\n",
    "smooth_s2n9 = np.zeros((10, 20000))\n",
    "smooth_s1n9 = np.zeros((10, 20000))\n",
    "smooth_s0n9 = np.zeros((10, 20000))\n",
    "\n",
    "\n",
    "smooth_s2n0 = np.zeros((10, 20000))\n",
    "smooth_s1n0 = np.zeros((10, 20000))\n",
    "smooth_s0n0 = np.zeros((10, 20000))\n",
    "for i in range(10):\n",
    "    smooth_s3n9[i,:] = smooth(s3n9_arr[i,:], 500)\n",
    "    smooth_s2n9[i,:] = smooth(s2n9_arr[i,:], 500)\n",
    "    smooth_s1n9[i,:] = smooth(s1n9_arr[i,:], 500)\n",
    "    smooth_s0n9[i,:] = smooth(s0n9_arr[i,:], 500)\n",
    "    \n",
    "    smooth_s2n0[i,:] = smooth(s2n0_arr[i,:], 500)\n",
    "    smooth_s1n0[i,:] = smooth(s1n0_arr[i,:], 500)\n",
    "    smooth_s0n0[i,:] = smooth(s0n0_arr[i,:], 500)\n",
    "    \n",
    "smooth_s2n9.shape"
   ]
  },
  {
   "cell_type": "code",
   "execution_count": null,
   "id": "311a2b68",
   "metadata": {},
   "outputs": [],
   "source": [
    "# drop the unusual value\n",
    "smooth_s1n9[7,:] = smooth_s1n9[6,:]\n",
    "smooth_s0n9[3,:] = smooth_s0n9[2,:]\n",
    "smooth_s0n0[3,:] = smooth_s0n0[2,:]"
   ]
  },
  {
   "cell_type": "code",
   "execution_count": null,
   "id": "04521d26",
   "metadata": {},
   "outputs": [],
   "source": [
    "mean_s3n9 = np.mean(smooth_s3n9, axis=0)\n",
    "mean_s2n9 = np.mean(smooth_s2n9, axis=0)\n",
    "mean_s1n9 = np.mean(smooth_s1n9, axis=0)\n",
    "mean_s0n9 = np.mean(smooth_s0n9, axis=0)\n",
    "\n",
    "mean_s2n0 = np.mean(smooth_s2n0, axis=0)\n",
    "mean_s1n0 = np.mean(smooth_s1n0, axis=0)\n",
    "mean_s0n0 = np.mean(smooth_s0n0, axis=0)\n"
   ]
  },
  {
   "cell_type": "code",
   "execution_count": null,
   "id": "091a0680",
   "metadata": {},
   "outputs": [],
   "source": [
    "plt.figure(figsize=(20, 14))\n",
    "plt.subplot(211)\n",
    "for i in range(10):\n",
    "    plt.plot(x_list, smooth_s3n9[i, :], color = 'lightskyblue')\n",
    "    plt.plot(x_list, smooth_s2n9[i, :], color = 'palegreen')\n",
    "    plt.plot(x_list, smooth_s1n9[i, :], color = 'lightcoral')\n",
    "    plt.plot(x_list, smooth_s0n9[i, :], color = 'violet')\n",
    "plt.plot(x_list, mean_s3n9, color = 'steelblue', linewidth = 3, label='Seeding 30%')\n",
    "plt.plot(x_list, mean_s2n9, color = 'seagreen', linewidth = 3, label='Seeding 20%')\n",
    "plt.plot(x_list, mean_s1n9, color = 'darkred', linewidth = 3, label='Seeding 10%')\n",
    "plt.plot(x_list, mean_s0n9, color = 'darkmagenta', linewidth = 3, label='Seeding 0%')\n",
    "plt.xlabel('Episodes')\n",
    "plt.ylabel('Returns')\n",
    "plt.title('Rewards with seeding, norm 9, b = 5')\n",
    "plt.axis([0, 20000, 0, 4])\n",
    "plt.legend()\n",
    "\n",
    "plt.subplot(212)\n",
    "for i in range(10):\n",
    "    plt.plot(x_list, smooth_s2n0[i, :], color = 'palegreen')\n",
    "    plt.plot(x_list, smooth_s1n0[i, :], color = 'lightcoral')\n",
    "    plt.plot(x_list, smooth_s0n0[i, :], color = 'violet')\n",
    "plt.plot(x_list, mean_s2n0, color = 'seagreen', linewidth = 3, label='Seeding 20%')\n",
    "plt.plot(x_list, mean_s1n0, color = 'darkred', linewidth = 3, label='Seeding 10%')\n",
    "plt.plot(x_list, mean_s0n0, color = 'darkmagenta', linewidth = 3, label='Seeding 0%')\n",
    "plt.xlabel('Episodes')\n",
    "plt.ylabel('Returns')\n",
    "plt.title('Rewards with seeding, norm 0, b = 5')\n",
    "plt.axis([0, 20000, 0, 0.5])\n",
    "plt.legend()\n",
    "\n",
    "plt.savefig('/home/qiaodan/Code/ReputationDynamics/results/seeding/seeding_agents_to_promote_cooperation.png')"
   ]
  },
  {
   "cell_type": "code",
   "execution_count": null,
   "id": "f9856676",
   "metadata": {},
   "outputs": [],
   "source": []
  }
 ],
 "metadata": {
  "kernelspec": {
   "display_name": "standardRLpy3.8",
   "language": "python",
   "name": "standard38"
  },
  "language_info": {
   "codemirror_mode": {
    "name": "ipython",
    "version": 3
   },
   "file_extension": ".py",
   "mimetype": "text/x-python",
   "name": "python",
   "nbconvert_exporter": "python",
   "pygments_lexer": "ipython3",
   "version": "3.8.13"
  }
 },
 "nbformat": 4,
 "nbformat_minor": 5
}
